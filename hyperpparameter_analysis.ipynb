{
 "cells": [
  {
   "cell_type": "code",
   "execution_count": null,
   "metadata": {},
   "outputs": [],
   "source": [
    "import os\n",
    "import numpy as np\n",
    "import matplotlib.pyplot as plt\n",
    "import pandas as pd\n",
    "import ipywidgets\n",
    "from ipywidgets import interact"
   ]
  },
  {
   "cell_type": "code",
   "execution_count": null,
   "metadata": {},
   "outputs": [],
   "source": [
    "path = './acc/'\n",
    "\n",
    "# Get all the filenames first\n",
    "files = []\n",
    "for _, _, f in os.walk(path):\n",
    "    files.append(f)\n",
    "files = files[0]\n",
    "\n",
    "# Split the file names to extract parameter values from filenames\n",
    "\n",
    "results = pd.DataFrame(columns=['File','Lambda','Metric','Learning Rate','Epoch', 'Accuracy'])\n",
    "\n",
    "for f in files:\n",
    "    filename = f\n",
    "    f = f.split('.')\n",
    "    f = f[0]\n",
    "    f = f.split('_')[:3]\n",
    "    weight, metric, lr = f\n",
    "    acc = np.loadtxt(path + filename)\n",
    "    for epoch in range(acc.shape[0]):\n",
    "        idx = results.shape[0]\n",
    "        results.loc[idx] = [filename, weight, metric, lr, epoch+1, acc[epoch]]"
   ]
  },
  {
   "cell_type": "code",
   "execution_count": null,
   "metadata": {},
   "outputs": [],
   "source": [
    "def plot_accuracies(lambd, metric, lr):\n",
    "    temp_df = results\n",
    "    if lambd != 'No selection':\n",
    "        temp_df = temp_df.loc[temp_df['Lambda'] == lambd]\n",
    "    if metric != 'No selection':\n",
    "        temp_df = temp_df.loc[temp_df['Metric'] == metric]\n",
    "    if lr != 'No selection':\n",
    "        temp_df = temp_df.loc[temp_df['Learning Rate'] == lr]\n",
    "    \n",
    "    if lambd == 'No selection' or metric == 'No selection' or lr == 'No selection':\n",
    "        df = pd.DataFrame(columns=['Epoch', 'Accuracy'])\n",
    "        for e in list(temp_df['Epoch']):\n",
    "            accuracy = np.mean(temp_df['Accuracy'].loc[temp_df['Epoch'] == e])\n",
    "            df.loc[e] = [e, accuracy]\n",
    "        temp_df = df\n",
    "    plt.figure(figsize=(10,5))\n",
    "    plt.plot(temp_df['Epoch'],temp_df['Accuracy'])\n",
    "    plt.grid(True)\n",
    "    plt.xlabel('Epoch')\n",
    "    plt.ylabel('Detection accuracy')\n",
    "    plt.show()"
   ]
  },
  {
   "cell_type": "code",
   "execution_count": null,
   "metadata": {},
   "outputs": [],
   "source": [
    "lambd = list(np.unique(results['Lambda'].values))\n",
    "lambd.append('No selection')\n",
    "metric = list(np.unique(results['Metric'].values))\n",
    "metric.append('No selection')\n",
    "lr = list(np.unique(results['Learning Rate'].values))\n",
    "lr.append('No selection')\n",
    "\n",
    "interact(\n",
    "    plot_accuracies,\n",
    "    lambd=ipywidgets.Dropdown(\n",
    "        options=lambd,\n",
    "        value='No selection',\n",
    "        description='Lambda'),\n",
    "    metric=ipywidgets.Dropdown(\n",
    "        options=metric,\n",
    "        value='No selection',\n",
    "        description='Metric'),\n",
    "    lr=ipywidgets.Dropdown(\n",
    "        options=lr,\n",
    "        value='No selection',\n",
    "        description='LR')\n",
    ");"
   ]
  },
  {
   "cell_type": "code",
   "execution_count": null,
   "metadata": {},
   "outputs": [],
   "source": []
  }
 ],
 "metadata": {
  "kernelspec": {
   "display_name": "Python 3",
   "language": "python",
   "name": "python3"
  },
  "language_info": {
   "codemirror_mode": {
    "name": "ipython",
    "version": 3
   },
   "file_extension": ".py",
   "mimetype": "text/x-python",
   "name": "python",
   "nbconvert_exporter": "python",
   "pygments_lexer": "ipython3",
   "version": "3.8.6"
  }
 },
 "nbformat": 4,
 "nbformat_minor": 4
}
