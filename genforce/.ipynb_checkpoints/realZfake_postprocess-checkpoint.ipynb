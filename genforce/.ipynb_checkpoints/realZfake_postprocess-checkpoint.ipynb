{
 "cells": [
  {
   "cell_type": "code",
   "execution_count": 1,
   "metadata": {},
   "outputs": [],
   "source": [
    "# IMPORTANT: To be able to run this code, you need to get access to the .p files by writing the following command (not yet executing):\n",
    "\n",
    "# sudo chown <user>:<group> \n",
    "\n",
    "# and drag all .p files into the command window (Terminal), then execute the command"
   ]
  },
  {
   "cell_type": "code",
   "execution_count": 1,
   "metadata": {},
   "outputs": [],
   "source": [
    "import os\n",
    "import time\n",
    "import pickle\n",
    "import numpy as np\n",
    "import matplotlib.pyplot as plt\n",
    "from shutil import copyfile"
   ]
  },
  {
   "cell_type": "code",
   "execution_count": 2,
   "metadata": {},
   "outputs": [],
   "source": [
    "# setup paths\n",
    "\n",
    "start_idx = 9\n",
    "end_idx = 11\n",
    "\n",
    "ffhq_path = '/Users/max/Desktop/FFHQ_256/'\n",
    "p_path = '/Users/max/Desktop/realZfake_p/'\n",
    "save_path = '/Users/max/Desktop/realZfake_res/'\n",
    "\n",
    "if start_idx == 0:\n",
    "    os.mkdir(save_path + 'real')\n",
    "    os.mkdir(save_path + 'latent')\n",
    "    os.mkdir(save_path + 'fake')"
   ]
  },
  {
   "cell_type": "code",
   "execution_count": 4,
   "metadata": {},
   "outputs": [],
   "source": [
    "# merge result files A, B, C, D\n",
    "\n",
    "latents_list = []\n",
    "fakes_list = []\n",
    "losses_list = []\n",
    "\n",
    "parts = np.arange(start_idx, end_idx)\n",
    "\n",
    "for part in parts:\n",
    "    \n",
    "    file_lat = open(p_path + 'latA' + str(part).zfill(2) + '.p', 'rb')\n",
    "    file_fak = open(p_path + 'fakA' + str(part).zfill(2) + '.p', 'rb')\n",
    "    file_los = open(p_path + 'losA' + str(part).zfill(2) + '.p', 'rb')\n",
    "    \n",
    "    latents_list.append(pickle.load(file_lat))\n",
    "    fakes_list.append(pickle.load(file_fak))\n",
    "    losses_list.append(pickle.load(file_los))\n",
    "    \n",
    "latents = np.vstack(latents_list)\n",
    "fakes = np.vstack(fakes_list)\n",
    "losses = np.hstack(losses_list)\n",
    "\n",
    "ids = np.arange(1000*start_idx, 1000*end_idx)"
   ]
  },
  {
   "cell_type": "code",
   "execution_count": 5,
   "metadata": {},
   "outputs": [
    {
     "name": "stdout",
     "output_type": "stream",
     "text": [
      "Accepting 89.3 % of examples.\n"
     ]
    }
   ],
   "source": [
    "# exclude examples with high inversion loss\n",
    "\n",
    "loss_threshold = 0.3\n",
    "\n",
    "index_keep = np.arange(1000*(end_idx-start_idx))[losses<loss_threshold]\n",
    "print('Accepting', str(np.round(1000*len(index_keep)/len(ids))/10), '% of examples.')"
   ]
  },
  {
   "cell_type": "code",
   "execution_count": 6,
   "metadata": {},
   "outputs": [
    {
     "name": "stdout",
     "output_type": "stream",
     "text": [
      "ETA: 2.0 min left.\n",
      "ETA: 2.0 min left.\n",
      "ETA: 2.0 min left.\n",
      "ETA: 3.0 min left.\n",
      "ETA: 3.0 min left.\n",
      "ETA: 2.0 min left.\n",
      "ETA: 2.0 min left.\n",
      "ETA: 2.0 min left.\n",
      "ETA: 2.0 min left.\n",
      "ETA: 2.0 min left.\n",
      "ETA: 2.0 min left.\n",
      "ETA: 1.0 min left.\n",
      "ETA: 1.0 min left.\n",
      "ETA: 1.0 min left.\n",
      "ETA: 1.0 min left.\n",
      "ETA: 1.0 min left.\n",
      "ETA: 0.0 min left.\n",
      "ETA: 0.0 min left.\n",
      "ETA: 0.0 min left.\n"
     ]
    }
   ],
   "source": [
    "# save to files\n",
    "\n",
    "counter = 1\n",
    "start = time.time()\n",
    "stamp = time.time()\n",
    "\n",
    "for idx in index_keep:\n",
    "    \n",
    "    # real\n",
    "    copyfile(ffhq_path + str(ids[idx]).zfill(5) + '.png', save_path + 'real/' + str(ids[idx]).zfill(5) + '.png')\n",
    "    \n",
    "    # latent\n",
    "    np.savetxt(save_path + 'latent/' + str(ids[idx]).zfill(5) + '.csv', latents[idx], delimiter=',')\n",
    "    \n",
    "    # fake\n",
    "    plt.imsave(save_path + 'fake/' + str(ids[idx]).zfill(5) + '.png', (fakes[idx].transpose(1,2,0)+1)/2)\n",
    "    \n",
    "    if time.time() - stamp > 10:\n",
    "        stamp = time.time()\n",
    "        print('ETA:', str(np.round((len(index_keep)-counter)*(time.time()-start)/counter/60)), 'min left.')\n",
    "        \n",
    "    counter += 1"
   ]
  },
  {
   "cell_type": "code",
   "execution_count": 34,
   "metadata": {},
   "outputs": [],
   "source": [
    "# test: read latent code\n",
    "\n",
    "i = 1\n",
    "test_z = np.genfromtxt(save_path + 'latent/' + str(i).zfill(5) + '.csv', delimiter=',')\n",
    "test_z = test_z.astype(np.float32)"
   ]
  }
 ],
 "metadata": {
  "kernelspec": {
   "display_name": "DLP",
   "language": "python",
   "name": "dlp"
  },
  "language_info": {
   "codemirror_mode": {
    "name": "ipython",
    "version": 3
   },
   "file_extension": ".py",
   "mimetype": "text/x-python",
   "name": "python",
   "nbconvert_exporter": "python",
   "pygments_lexer": "ipython3",
   "version": "3.7.9"
  }
 },
 "nbformat": 4,
 "nbformat_minor": 4
}
