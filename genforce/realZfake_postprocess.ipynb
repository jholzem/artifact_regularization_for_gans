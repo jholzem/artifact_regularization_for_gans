{
 "cells": [
  {
   "cell_type": "code",
   "execution_count": 1,
   "metadata": {},
   "outputs": [],
   "source": [
    "import os\n",
    "import time\n",
    "import pickle\n",
    "import numpy as np\n",
    "import matplotlib.pyplot as plt\n",
    "from shutil import copyfile"
   ]
  },
  {
   "cell_type": "code",
   "execution_count": 2,
   "metadata": {},
   "outputs": [],
   "source": [
    "# setup paths\n",
    "\n",
    "ffhq_path = '/Users/max/Desktop/FFHQ_256/'\n",
    "p_path = '/Users/max/Desktop/realZfake_p/'\n",
    "save_path = '/Users/max/Desktop/realZfake_res/'\n",
    "\n",
    "os.mkdir(save_path + 'reals')\n",
    "os.mkdir(save_path + 'latents')\n",
    "os.mkdir(save_path + 'fakes')"
   ]
  },
  {
   "cell_type": "code",
   "execution_count": 3,
   "metadata": {},
   "outputs": [
    {
     "name": "stdout",
     "output_type": "stream",
     "text": [
      "ETA: 0.0 min left.\n",
      "ETA: 0.0 min left.\n",
      "ETA: 0.0 min left.\n"
     ]
    }
   ],
   "source": [
    "# merge result files A, B, C, D\n",
    "\n",
    "latents_list = []\n",
    "fakes_list = []\n",
    "losses_list = []\n",
    "\n",
    "parts = ['X', 'Y', 'Z'] # ['A', 'B', 'C', 'D']\n",
    "\n",
    "counter = 1\n",
    "start = time.time()\n",
    "\n",
    "for part in parts:\n",
    "    \n",
    "    file_lat = open(p_path + 'lat' + part + '.p', 'rb')\n",
    "    file_fak = open(p_path + 'fak' + part + '.p', 'rb')\n",
    "    file_los = open(p_path + 'los' + part + '.p', 'rb')\n",
    "    \n",
    "    latents_list.append(pickle.load(file_lat))\n",
    "    fakes_list.append(pickle.load(file_fak))\n",
    "    losses_list.append(pickle.load(file_los))\n",
    "    \n",
    "    print('ETA:', str(np.round((len(parts)-counter)*(time.time()-start)/counter/60)), 'min left.')\n",
    "    counter += 1\n",
    "    \n",
    "latents = np.vstack(latents_list)\n",
    "fakes = np.vstack(fakes_list)\n",
    "losses = np.hstack(losses_list)\n",
    "\n",
    "ids = np.arange(len(losses))"
   ]
  },
  {
   "cell_type": "code",
   "execution_count": 7,
   "metadata": {
    "jupyter": {
     "source_hidden": true
    }
   },
   "outputs": [],
   "source": [
    "# DEBUGGING\n",
    "\n",
    "latents = latents[:12,:,:]\n",
    "losses = losses[:12]\n",
    "ids = ids[:12]"
   ]
  },
  {
   "cell_type": "code",
   "execution_count": 8,
   "metadata": {},
   "outputs": [
    {
     "name": "stdout",
     "output_type": "stream",
     "text": [
      "Accepting 66.7 % of examples.\n"
     ]
    }
   ],
   "source": [
    "# exclude examples with high inversion loss\n",
    "\n",
    "loss_threshold = 0.25\n",
    "\n",
    "ids_keep = ids[losses<loss_threshold]\n",
    "print('Accepting', str(np.round(1000*len(ids_keep)/len(ids))/10), '% of examples.')"
   ]
  },
  {
   "cell_type": "code",
   "execution_count": 9,
   "metadata": {},
   "outputs": [],
   "source": [
    "# save to files\n",
    "\n",
    "counter = 1\n",
    "start = time.time()\n",
    "stamp = time.time()\n",
    "\n",
    "for i in ids_keep:\n",
    "    \n",
    "    # real\n",
    "    copyfile(ffhq_path + str(i).zfill(5) + '.png', save_path + 'reals/' + str(i).zfill(5) + '.png')\n",
    "    \n",
    "    # latent\n",
    "    np.savetxt(save_path + 'latents/' + str(i).zfill(5) + '.csv', latents[i], delimiter=',')\n",
    "    \n",
    "    # fake\n",
    "    plt.imsave(save_path + 'fakes/' + str(i).zfill(5) + '.png', (fakes[i].transpose(1,2,0)+1)/2)\n",
    "    \n",
    "    if time.time() - stamp > 10:\n",
    "        stamp = time.time()\n",
    "        print('ETA:', str(np.round((len(ids_keep)-counter)*(time.time()-start)/counter/60)), 'min left.')\n",
    "        \n",
    "    counter += 1"
   ]
  },
  {
   "cell_type": "code",
   "execution_count": 11,
   "metadata": {},
   "outputs": [
    {
     "data": {
      "text/plain": [
       "(14, 512)"
      ]
     },
     "execution_count": 11,
     "metadata": {},
     "output_type": "execute_result"
    }
   ],
   "source": [
    "# test: read latent code\n",
    "\n",
    "i = 1\n",
    "test_z = np.genfromtxt(save_path + 'latents/' + str(i).zfill(5) + '.csv', delimiter=',')\n",
    "test_z.shape"
   ]
  }
 ],
 "metadata": {
  "kernelspec": {
   "display_name": "DLP",
   "language": "python",
   "name": "dlp"
  },
  "language_info": {
   "codemirror_mode": {
    "name": "ipython",
    "version": 3
   },
   "file_extension": ".py",
   "mimetype": "text/x-python",
   "name": "python",
   "nbconvert_exporter": "python",
   "pygments_lexer": "ipython3",
   "version": "3.7.9"
  }
 },
 "nbformat": 4,
 "nbformat_minor": 4
}
