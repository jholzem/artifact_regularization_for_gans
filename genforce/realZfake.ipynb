{
 "cells": [
  {
   "cell_type": "code",
   "execution_count": 1,
   "metadata": {},
   "outputs": [],
   "source": [
    "import torch\n",
    "import pickle\n",
    "import time\n",
    "import numpy as np\n",
    "import matplotlib.pyplot as plt\n",
    "import utils.inverter as inv\n",
    "from models.stylegan_generator_idinvert import StyleGANGeneratorIdinvert"
   ]
  },
  {
   "cell_type": "code",
   "execution_count": 2,
   "metadata": {},
   "outputs": [],
   "source": [
    "# load real images\n",
    "path_images = 'runners/losses/fourier/stylegan_idinver_png/'\n",
    "\n",
    "original_list = []\n",
    "\n",
    "for ii in range(7):\n",
    "    original_list.append(plt.imread(path_images+str(ii)+'/original.png'))\n",
    "\n",
    "original = np.array(original_list)\n",
    "original = original[:,:,:,:3]\n",
    "original_transform = original * 2 - 1"
   ]
  },
  {
   "cell_type": "code",
   "execution_count": 3,
   "metadata": {},
   "outputs": [
    {
     "name": "stdout",
     "output_type": "stream",
     "text": [
      "[2020-12-23 19:46:18,156][INFO] Build network for module `generator` in model `styleganinv_ffhq256`.\n",
      "[2020-12-23 19:46:18,384][INFO] Loading pytorch weights from `models/pretrain/styleganinv_ffhq256_generator.pth`.\n",
      "[2020-12-23 19:46:18,778][INFO] Successfully loaded!\n",
      "[2020-12-23 19:46:18,793][INFO] Current `lod` is 0.0.\n",
      "[2020-12-23 19:46:18,794][INFO] Build network for module `encoder` in model `styleganinv_ffhq256`.\n",
      "[2020-12-23 19:46:19,983][INFO] Loading pytorch weights from `models/pretrain/styleganinv_ffhq256_encoder.pth`.\n",
      "[2020-12-23 19:46:22,006][INFO] Successfully loaded!\n"
     ]
    }
   ],
   "source": [
    "# initialize generator & invertor\n",
    "G = StyleGANGeneratorIdinvert('styleganinv_ffhq256')\n",
    "Inverter = inv.StyleGANInverter(G, 'styleganinv_ffhq256', iteration=10)"
   ]
  },
  {
   "cell_type": "code",
   "execution_count": 4,
   "metadata": {},
   "outputs": [
    {
     "name": "stderr",
     "output_type": "stream",
     "text": [
      "loss_pix: 0.020, loss_feat: 2979.996, loss_reg: 0.015, loss: 0.200: 100%|██████████| 10/10 [01:22<00:00,  8.29s/it]\n",
      "loss_pix: 0.018, loss_feat: 2402.664, loss_reg: 0.011, loss: 0.160: 100%|██████████| 10/10 [01:23<00:00,  8.34s/it]\n",
      "loss_pix: 0.120, loss_feat: 8796.975, loss_reg: 0.041, loss: 0.641: 100%|██████████| 10/10 [01:23<00:00,  8.36s/it]\n",
      "loss_pix: 0.029, loss_feat: 3643.846, loss_reg: 0.022, loss: 0.254: 100%|██████████| 10/10 [01:23<00:00,  8.33s/it]\n",
      "loss_pix: 0.016, loss_feat: 1981.657, loss_reg: 0.010, loss: 0.134: 100%|██████████| 10/10 [01:23<00:00,  8.31s/it]\n",
      "loss_pix: 0.101, loss_feat: 3459.869, loss_reg: 0.172, loss: 0.617: 100%|██████████| 10/10 [01:23<00:00,  8.35s/it]\n",
      "loss_pix: 0.074, loss_feat: 3621.046, loss_reg: 0.046, loss: 0.346: 100%|██████████| 10/10 [01:23<00:00,  8.35s/it]\n"
     ]
    },
    {
     "name": "stdout",
     "output_type": "stream",
     "text": [
      "10.024081834157307 min\n",
      "= 0.16706809474362266 h\n"
     ]
    }
   ],
   "source": [
    "# create optimized latent code & real images\n",
    "start = time.time()\n",
    "\n",
    "result = []\n",
    "for ii in range(original_transform.shape[0]):\n",
    "    toInvert = torch.from_numpy(original_transform[ii]).permute(2,0,1).unsqueeze(0)\n",
    "    result.append(Inverter.invert_offline(image=toInvert))\n",
    "    \n",
    "print((time.time()-start)/60, 'min')\n",
    "print('=',(time.time()-start)/3600, 'h')"
   ]
  },
  {
   "cell_type": "code",
   "execution_count": 12,
   "metadata": {},
   "outputs": [],
   "source": [
    "# save\n",
    "pickle.dump(result, open( \"res.p\", \"wb\" ))"
   ]
  }
 ],
 "metadata": {
  "kernelspec": {
   "display_name": "DLP",
   "language": "python",
   "name": "dlp"
  },
  "language_info": {
   "codemirror_mode": {
    "name": "ipython",
    "version": 3
   },
   "file_extension": ".py",
   "mimetype": "text/x-python",
   "name": "python",
   "nbconvert_exporter": "python",
   "pygments_lexer": "ipython3",
   "version": "3.7.9"
  }
 },
 "nbformat": 4,
 "nbformat_minor": 4
}
